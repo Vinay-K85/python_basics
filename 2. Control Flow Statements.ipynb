{
 "cells": [
  {
   "cell_type": "markdown",
   "metadata": {},
   "source": [
    "# Control Flow Statements"
   ]
  },
  {
   "cell_type": "markdown",
   "metadata": {},
   "source": [
    "#### `If` Statement\n",
    "\n",
    "It consists of a boolean expression followed by one or more statements. If the boolean expression evaluates to be true, then the block of code inside the `if` statement will be executed otherwise not."
   ]
  },
  {
   "cell_type": "code",
   "execution_count": 1,
   "metadata": {},
   "outputs": [
    {
     "name": "stdout",
     "output_type": "stream",
     "text": [
      "Enter the share price of two organizations: 250, 100\n",
      "The first organization is performing better\n"
     ]
    }
   ],
   "source": [
    "# Code to compare the share prices of two organizations - using if statement\n",
    "p1, p2 = eval(input(\"Enter the share price of two organizations: \"))\n",
    "\n",
    "# Using if statement\n",
    "if (p1 > p2):\n",
    "    print(\"The first organization is performing better\")"
   ]
  },
  {
   "cell_type": "code",
   "execution_count": 2,
   "metadata": {},
   "outputs": [
    {
     "name": "stdout",
     "output_type": "stream",
     "text": [
      "Enter the share price of two organizations: 250, 300\n"
     ]
    }
   ],
   "source": [
    "# Code to compare the share prices of two organizations - using if statement\n",
    "p1, p2 = eval(input(\"Enter the share price of two organizations: \"))\n",
    "\n",
    "# Using if statement\n",
    "if (p1 > p2):\n",
    "    print(\"The first organization is performing better\")"
   ]
  },
  {
   "cell_type": "markdown",
   "metadata": {},
   "source": [
    "#### `If....else` Statement\n",
    "\n",
    "A `if` statement is optional followed by `else` statement which will execute only when the `if` statement is false."
   ]
  },
  {
   "cell_type": "code",
   "execution_count": 3,
   "metadata": {},
   "outputs": [
    {
     "name": "stdout",
     "output_type": "stream",
     "text": [
      "Enter the share prices of two organizations: 300, 250\n",
      "The first organization is performing better\n"
     ]
    }
   ],
   "source": [
    "# Code to demonstrate the if....else statement\n",
    "p1, p2 = eval(input(\"Enter the share prices of two organizations: \"))\n",
    "\n",
    "# Using if....else statement\n",
    "if (p1 > p2):\n",
    "    print(\"The first organization is performing better\")\n",
    "else:\n",
    "    print(\"The second organization is performing better\")"
   ]
  },
  {
   "cell_type": "code",
   "execution_count": 4,
   "metadata": {},
   "outputs": [
    {
     "name": "stdout",
     "output_type": "stream",
     "text": [
      "Enter the share prices of two organizations: 300, 500\n",
      "The second organization is performing better\n"
     ]
    }
   ],
   "source": [
    "# Code to demonstrate the if....else statement\n",
    "p1, p2 = eval(input(\"Enter the share prices of two organizations: \"))\n",
    "\n",
    "# Using if....else statement\n",
    "if (p1 > p2):\n",
    "    print(\"The first organization is performing better\")\n",
    "else:\n",
    "    print(\"The second organization is performing better\")"
   ]
  },
  {
   "cell_type": "markdown",
   "metadata": {},
   "source": [
    "#### Nested `if` Statement\n",
    "\n",
    "This means `if` statement inside another `if` statement. A nested `if` is `if` statement that is the target of another `if` statement."
   ]
  },
  {
   "cell_type": "code",
   "execution_count": 5,
   "metadata": {},
   "outputs": [
    {
     "name": "stdout",
     "output_type": "stream",
     "text": [
      "Enter the prices of three products: 50, 30, 20\n",
      "The first product is expensive\n"
     ]
    }
   ],
   "source": [
    "# Code to demonstrate nested if statement\n",
    "p1, p2, p3 = eval(input(\"Enter the prices of three products: \"))\n",
    "\n",
    "if (p1 > p2):\n",
    "    if (p1 > p3):\n",
    "        print(\"The first product is expensive\")\n",
    "    else:\n",
    "        print(\"Third product is expensive\")\n",
    "else:\n",
    "    if (p2 > p3):\n",
    "        print(\"Second product is expensive\")\n",
    "    else:\n",
    "        print(\"Third product is expensive\")"
   ]
  },
  {
   "cell_type": "code",
   "execution_count": 6,
   "metadata": {},
   "outputs": [
    {
     "name": "stdout",
     "output_type": "stream",
     "text": [
      "Enter the prices of three products: 20, 50, 30\n",
      "Second product is expensive\n"
     ]
    }
   ],
   "source": [
    "# Code to demonstrate nested if statement\n",
    "p1, p2, p3 = eval(input(\"Enter the prices of three products: \"))\n",
    "\n",
    "if (p1 > p2):\n",
    "    if (p1 > p3):\n",
    "        print(\"The first product is expensive\")\n",
    "    else:\n",
    "        print(\"Third product is expensive\")\n",
    "else:\n",
    "    if (p2 > p3):\n",
    "        print(\"Second product is expensive\")\n",
    "    else:\n",
    "        print(\"Third product is expensive\")"
   ]
  },
  {
   "cell_type": "code",
   "execution_count": 7,
   "metadata": {},
   "outputs": [
    {
     "name": "stdout",
     "output_type": "stream",
     "text": [
      "Enter the prices of three products: 20, 30, 30\n",
      "Third product is expensive\n"
     ]
    }
   ],
   "source": [
    "# Code to demonstrate nested if statement\n",
    "p1, p2, p3 = eval(input(\"Enter the prices of three products: \"))\n",
    "\n",
    "if (p1 > p2):\n",
    "    if (p1 > p3):\n",
    "        print(\"The first product is expensive\")\n",
    "    else:\n",
    "        print(\"Third product is expensive\")\n",
    "else:\n",
    "    if (p2 > p3):\n",
    "        print(\"Second product is expensive\")\n",
    "    else:\n",
    "        print(\"Third product is expensive\")"
   ]
  },
  {
   "cell_type": "markdown",
   "metadata": {},
   "source": [
    "#### `If-elif-else` Ladder\n",
    "\n",
    "`if` statement can be followed by an optional `else if....else` statement, to test the conditions using simple `if...else if` statement. The `if` statements are executed from top to bottom and as soon as one of the condition controlling the `if` is true, the associated `if` statement will be executed and rest of the statements will be bypassed."
   ]
  },
  {
   "cell_type": "code",
   "execution_count": 8,
   "metadata": {},
   "outputs": [
    {
     "name": "stdout",
     "output_type": "stream",
     "text": [
      "Enter the quantity sold: 1000\n",
      "Excellent Performance\n"
     ]
    }
   ],
   "source": [
    "# Code to demonstrate the if...else if ladder\n",
    "qty = eval(input(\"Enter the quantity sold: \"))\n",
    "\n",
    "if (qty >= 900):\n",
    "    print(\"Excellent Performance\")\n",
    "elif (qty >= 750):\n",
    "    print(\"Above Average Performance\")\n",
    "elif (qty >= 500):\n",
    "    print(\"Average Performance\")\n",
    "else:\n",
    "    print(\"Poor Performance\")"
   ]
  },
  {
   "cell_type": "code",
   "execution_count": 9,
   "metadata": {},
   "outputs": [
    {
     "name": "stdout",
     "output_type": "stream",
     "text": [
      "Enter the quantity sold: 800\n",
      "Above Average Performance\n"
     ]
    }
   ],
   "source": [
    "# Code to demonstrate the if...else if ladder\n",
    "qty = eval(input(\"Enter the quantity sold: \"))\n",
    "\n",
    "if (qty >= 900):\n",
    "    print(\"Excellent Performance\")\n",
    "elif (qty >= 750):\n",
    "    print(\"Above Average Performance\")\n",
    "elif (qty >= 500):\n",
    "    print(\"Average Performance\")\n",
    "else:\n",
    "    print(\"Poor Performance\")"
   ]
  },
  {
   "cell_type": "code",
   "execution_count": 10,
   "metadata": {},
   "outputs": [
    {
     "name": "stdout",
     "output_type": "stream",
     "text": [
      "Enter the quantity sold: 560\n",
      "Average Performance\n"
     ]
    }
   ],
   "source": [
    "# Code to demonstrate the if...else if ladder\n",
    "qty = eval(input(\"Enter the quantity sold: \"))\n",
    "\n",
    "if (qty >= 900):\n",
    "    print(\"Excellent Performance\")\n",
    "elif (qty >= 750):\n",
    "    print(\"Above Average Performance\")\n",
    "elif (qty >= 500):\n",
    "    print(\"Average Performance\")\n",
    "else:\n",
    "    print(\"Poor Performance\")"
   ]
  },
  {
   "cell_type": "code",
   "execution_count": 11,
   "metadata": {},
   "outputs": [
    {
     "name": "stdout",
     "output_type": "stream",
     "text": [
      "Enter the quantity sold: 200\n",
      "Poor Performance\n"
     ]
    }
   ],
   "source": [
    "# Code to demonstrate the if...else if ladder\n",
    "qty = eval(input(\"Enter the quantity sold: \"))\n",
    "\n",
    "if (qty >= 900):\n",
    "    print(\"Excellent Performance\")\n",
    "elif (qty >= 750):\n",
    "    print(\"Above Average Performance\")\n",
    "elif (qty >= 500):\n",
    "    print(\"Average Performance\")\n",
    "else:\n",
    "    print(\"Poor Performance\")"
   ]
  },
  {
   "cell_type": "code",
   "execution_count": 12,
   "metadata": {},
   "outputs": [
    {
     "name": "stdout",
     "output_type": "stream",
     "text": [
      "Enter the salary: 0\n",
      "Invalid amount entered\n"
     ]
    }
   ],
   "source": [
    "# Usage of logical operators: or (|), and (&)\n",
    "sal = eval(input(\"Enter the salary: \"))\n",
    "\n",
    "# Using or (|) operator\n",
    "if (sal <= 0) | (sal >= 3000000):\n",
    "    print(\"Invalid amount entered\")\n",
    "    \n",
    "# Using and (&) operator\n",
    "if (sal < 50000) & (sal > 0):\n",
    "    print(\"Junior Manager\")\n",
    "    \n",
    "if (sal > 50000) & (sal < 300000):\n",
    "    print(\"Middel Level Manager\")\n",
    "    \n",
    "if (sal > 100000) & (sal < 300000):\n",
    "    print(\"Senior Manager\")"
   ]
  },
  {
   "cell_type": "code",
   "execution_count": 13,
   "metadata": {},
   "outputs": [
    {
     "name": "stdout",
     "output_type": "stream",
     "text": [
      "Enter the salary: 30000\n",
      "Junior Manager\n"
     ]
    }
   ],
   "source": [
    "# Usage of logical operators: or (|), and (&)\n",
    "sal = eval(input(\"Enter the salary: \"))\n",
    "\n",
    "# Using or (|) operator\n",
    "if (sal <= 0) | (sal >= 3000000):\n",
    "    print(\"Invalid amount entered\")\n",
    "    \n",
    "# Using and (&) operator\n",
    "if (sal < 50000) & (sal > 0):\n",
    "    print(\"Junior Manager\")\n",
    "    \n",
    "if (sal > 50000) & (sal < 300000):\n",
    "    print(\"Middel Level Manager\")\n",
    "    \n",
    "if (sal > 100000) & (sal < 300000):\n",
    "    print(\"Senior Manager\")"
   ]
  },
  {
   "cell_type": "code",
   "execution_count": 14,
   "metadata": {},
   "outputs": [
    {
     "name": "stdout",
     "output_type": "stream",
     "text": [
      "Enter the salary: 150000\n",
      "Senior Manager\n"
     ]
    }
   ],
   "source": [
    "# Usage of logical operators: or (|), and (&)\n",
    "sal = eval(input(\"Enter the salary: \"))\n",
    "\n",
    "# Using or (|) operator\n",
    "if (sal <= 0) | (sal >= 3000000):\n",
    "    print(\"Invalid amount entered\")\n",
    "    \n",
    "# Using and (&) operator\n",
    "if (sal < 50000) & (sal > 0):\n",
    "    print(\"Junior Manager\")\n",
    "    \n",
    "if (sal > 50000) & (sal == 300000):\n",
    "    print(\"Middel Level Manager\")\n",
    "    \n",
    "if (sal > 100000) & (sal < 300000):\n",
    "    print(\"Senior Manager\")"
   ]
  }
 ],
 "metadata": {
  "kernelspec": {
   "display_name": "Python 3",
   "language": "python",
   "name": "python3"
  },
  "language_info": {
   "codemirror_mode": {
    "name": "ipython",
    "version": 3
   },
   "file_extension": ".py",
   "mimetype": "text/x-python",
   "name": "python",
   "nbconvert_exporter": "python",
   "pygments_lexer": "ipython3",
   "version": "3.8.6"
  }
 },
 "nbformat": 4,
 "nbformat_minor": 4
}
