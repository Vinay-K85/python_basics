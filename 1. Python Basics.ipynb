{
 "cells": [
  {
   "cell_type": "markdown",
   "metadata": {},
   "source": [
    "# Python Basics"
   ]
  },
  {
   "cell_type": "markdown",
   "metadata": {},
   "source": [
    "#### Print Function"
   ]
  },
  {
   "cell_type": "code",
   "execution_count": 1,
   "metadata": {},
   "outputs": [
    {
     "name": "stdout",
     "output_type": "stream",
     "text": [
      "Hello World!\n"
     ]
    }
   ],
   "source": [
    "print(\"Hello World!\")"
   ]
  },
  {
   "cell_type": "code",
   "execution_count": 2,
   "metadata": {},
   "outputs": [
    {
     "name": "stdout",
     "output_type": "stream",
     "text": [
      "Hello\n",
      "World\n",
      "!\n"
     ]
    }
   ],
   "source": [
    "# Print multiple outputs in single program\n",
    "print(\"Hello\")\n",
    "print(\"World\")\n",
    "print(\"!\")"
   ]
  },
  {
   "cell_type": "code",
   "execution_count": 3,
   "metadata": {},
   "outputs": [
    {
     "name": "stdout",
     "output_type": "stream",
     "text": [
      "Welcome to world of Python"
     ]
    }
   ],
   "source": [
    "# Print with `end` argument\n",
    "print(\"Welcome\", end = \" \")\n",
    "print(\"to\", end = \" \")\n",
    "print(\"world\", end = \" \")\n",
    "print(\"of\", end = \" \")\n",
    "print(\"Python\", end = \"\")"
   ]
  },
  {
   "cell_type": "code",
   "execution_count": 4,
   "metadata": {},
   "outputs": [
    {
     "name": "stdout",
     "output_type": "stream",
     "text": [
      "Hello Dear\n",
      "Enter your name:  Welcome\n",
      "So nice to meet you"
     ]
    }
   ],
   "source": [
    "# Program to use print() with and without \"end\" argument\n",
    "print(\"Hello Dear\")\n",
    "print(\"Enter your name: \", end = \" \")\n",
    "print(\"Welcome\")\n",
    "print(end = \"So nice to meet you\")"
   ]
  },
  {
   "cell_type": "code",
   "execution_count": 5,
   "metadata": {},
   "outputs": [
    {
     "name": "stdout",
     "output_type": "stream",
     "text": [
      "100 50 20 10\n",
      "100502010\n",
      "100,50,20,10\n",
      "100 50 20 10\n",
      "100:50:20:10\n",
      "100---50---20---10\n"
     ]
    }
   ],
   "source": [
    "# Print with sep argument\n",
    "# Code to show the use of \"sep\" argument with print\n",
    "var1, var2, var3, var4 = 100, 50, 20, 10\n",
    "\n",
    "# Code without separator\n",
    "print(var1, var2, var3, var4)\n",
    "\n",
    "# Code using no space as separator\n",
    "print(var1, var2, var3, var4, sep = \"\")\n",
    "\n",
    "# Code using comma as separator\n",
    "print(var1, var2, var3, var4, sep = \",\")\n",
    "\n",
    "# Code using space as separator\n",
    "print(var1, var2, var3, var4, sep = \" \")\n",
    "\n",
    "# Code using colon as separator\n",
    "print(var1, var2, var3, var4, sep = \":\")\n",
    "\n",
    "# Code using \"---\" as separator\n",
    "print(var1, var2, var3, var4, sep = \"---\")"
   ]
  },
  {
   "cell_type": "markdown",
   "metadata": {},
   "source": [
    "#### Input Function"
   ]
  },
  {
   "cell_type": "code",
   "execution_count": 6,
   "metadata": {},
   "outputs": [
    {
     "name": "stdout",
     "output_type": "stream",
     "text": [
      "Enter the number: 23\n",
      "The number entered is:  23 and class is:  <class 'str'>\n"
     ]
    }
   ],
   "source": [
    "# Code to show the use of input() function\n",
    "num = input(\"Enter the number: \")\n",
    "print(\"The number entered is: \", num, \"and class is: \", type(num))"
   ]
  },
  {
   "cell_type": "markdown",
   "metadata": {},
   "source": [
    "By default the input function converts datatype to string."
   ]
  },
  {
   "cell_type": "code",
   "execution_count": 7,
   "metadata": {},
   "outputs": [
    {
     "name": "stdout",
     "output_type": "stream",
     "text": [
      "Please enter your name: Markus\n",
      "Hello Markus Welcome to Python programming\n"
     ]
    }
   ],
   "source": [
    "# Code to enter string using input() function\n",
    "my_name = input(\"Please enter your name: \")\n",
    "print(\"Hello\", my_name, \"Welcome to Python programming\")"
   ]
  },
  {
   "cell_type": "code",
   "execution_count": 8,
   "metadata": {},
   "outputs": [
    {
     "name": "stdout",
     "output_type": "stream",
     "text": [
      "Enter the number: 46\n",
      "Entered number is:  46 and its class is <class 'int'>\n"
     ]
    }
   ],
   "source": [
    "# Input with int() function\n",
    "# Code to use int() function with input()\n",
    "num1 = int(input(\"Enter the number: \"))\n",
    "print(\"Entered number is: \", num1, \"and its class is\", type(num1))"
   ]
  },
  {
   "cell_type": "code",
   "execution_count": 9,
   "metadata": {},
   "outputs": [
    {
     "name": "stdout",
     "output_type": "stream",
     "text": [
      "Enter the measure: 17\n",
      "Entered measure is:  17.0 and its class is <class 'float'>\n"
     ]
    }
   ],
   "source": [
    "# Input with float() function\n",
    "# Code to use float() with input()\n",
    "measurement = float(input(\"Enter the measure: \"))\n",
    "print(\"Entered measure is: \", measurement, \"and its class is\", type(measurement))"
   ]
  },
  {
   "cell_type": "code",
   "execution_count": 10,
   "metadata": {},
   "outputs": [
    {
     "name": "stdout",
     "output_type": "stream",
     "text": [
      "Enter the value of first variable: 23\n",
      "val1 =  23 type:  <class 'int'>\n",
      "Enter the value of second variable: \"India\"\n",
      "val2 =  India type:  <class 'str'>\n",
      "Enter the value of third variable: 72\n",
      "val3 =  72 type:  <class 'int'>\n"
     ]
    }
   ],
   "source": [
    "# Input with eval() function\n",
    "# Code to use eval() with input()\n",
    "val1 = eval(input(\"Enter the value of first variable: \"))\n",
    "print(\"val1 = \", val1, \"type: \", type(val1))\n",
    "\n",
    "val2 = eval(input(\"Enter the value of second variable: \"))\n",
    "print(\"val2 = \", val2, \"type: \", type(val2))\n",
    "\n",
    "val3 = eval(input(\"Enter the value of third variable: \"))\n",
    "print(\"val3 = \", val3, \"type: \", type(val3))"
   ]
  },
  {
   "cell_type": "markdown",
   "metadata": {},
   "source": [
    "#### Operators"
   ]
  },
  {
   "cell_type": "markdown",
   "metadata": {},
   "source": [
    "##### Arithmetic Operators"
   ]
  },
  {
   "cell_type": "code",
   "execution_count": 11,
   "metadata": {},
   "outputs": [
    {
     "name": "stdout",
     "output_type": "stream",
     "text": [
      "Enter the first number: 38\n",
      "Enter the second number: 92\n",
      "38 + 92 = 130\n",
      "38 - 92 = -54\n",
      "38 * 92 = 3496\n",
      "38 / 92 = 0.41304347826086957\n",
      "38 % 92 = 38\n",
      "38 ** 92 = 21882195245867585554089139574026673340134760390564699661252691764040610112094239089721776062657291004547223015162098743616418156596332703730630656\n",
      "38 // 92 = 0\n"
     ]
    }
   ],
   "source": [
    "# Code to show the use of arithmetic operators\n",
    "num1 = int(input(\"Enter the first number: \"))\n",
    "num2 = int(input(\"Enter the second number: \"))\n",
    "\n",
    "# Using (+) to add two integers\n",
    "print(num1, \"+\", num2, \"=\", num1+num2)\n",
    "\n",
    "# Using (-) to subtract\n",
    "print(num1, \"-\", num2, \"=\", num1-num2)\n",
    "\n",
    "# Using (*) to multiply the two integers\n",
    "print(num1, \"*\", num2, \"=\", num1*num2)\n",
    "\n",
    "# Using (/) to divide the two integers\n",
    "print(num1, \"/\", num2, \"=\", num1/num2)\n",
    "\n",
    "# Using (%) to determine the remainder from two integers\n",
    "print(num1, \"%\", num2, \"=\", num1%num2)\n",
    "\n",
    "# Using (**) to determine the exponential power from two integers\n",
    "print(num1, \"**\", num2, \"=\", num1**num2)\n",
    "\n",
    "# Using (//) to perform integer division on two integers\n",
    "print(num1, \"//\", num2, \"=\", num1//num2)"
   ]
  },
  {
   "cell_type": "markdown",
   "metadata": {},
   "source": [
    "##### Assignment Operators"
   ]
  },
  {
   "cell_type": "code",
   "execution_count": 12,
   "metadata": {},
   "outputs": [
    {
     "name": "stdout",
     "output_type": "stream",
     "text": [
      "Enter the first number: 45\n",
      "Enter the second number: 14\n",
      "The result of addition assignment is:  130\n",
      "The result of subtraction assignment is:  54\n",
      "The result of multiplication assignment is:  3496\n",
      "The result of division assignment is:  2.4210526315789473\n",
      "The result of integer division assignment is:  2\n",
      "The result of modulus assignment is:  92\n",
      "The result of exponetial assignment is:  420666026353254824414747497926431741596367357318912501715690652764926377984\n"
     ]
    }
   ],
   "source": [
    "# Program to use assignment operators\n",
    "num_1 = int(input(\"Enter the first number: \"))\n",
    "num_2 = int(input(\"Enter the second number: \"))\n",
    "\n",
    "# Add AND assignment operator (+=): It adds right to left operand and assigns the result to the left operand.\n",
    "# Y += X is equivalent to Y = Y + X\n",
    "result = num2\n",
    "result += num1\n",
    "print(\"The result of addition assignment is: \", result)\n",
    "\n",
    "# Subtract AND assignment operator (-=): Subtracts right from left operand and assigns the result to left operand\n",
    "# Y -= X is equivalent to Y = Y - X\n",
    "result_1 = num2\n",
    "result_1 -= num1\n",
    "print(\"The result of subtraction assignment is: \", result_1)\n",
    "\n",
    "# Multiply AND assignment operator (*=). Multiply right with left operand and assings the result to left operand\n",
    "# Y *= X is equivalent to Y = Y * X\n",
    "result_2 = num2\n",
    "result_2 *= num1\n",
    "print(\"The result of multiplication assignment is: \", result_2)\n",
    "\n",
    "# Divide AND assignment operator (/=). Divides left with right operand and assigns the result to left operand\n",
    "# Y /= X is equivalent to Y = Y / X\n",
    "result_3 = num2\n",
    "result_3 /= num1\n",
    "print(\"The result of division assignment is: \", result_3)\n",
    "\n",
    "# Integer division AND assignment operator (//=). Divides left with right operand and assigns the integer quotient\n",
    "# to the left operand\n",
    "result_4 = num2\n",
    "result_4 //= num1\n",
    "print(\"The result of integer division assignment is: \", result_4)\n",
    "\n",
    "# Modulus AND assignment operator (%=). Divides left with right operand and assigns remainder to the left operand\n",
    "# Y %= X is equivalent to Y = Y%X\n",
    "result_5 = num2\n",
    "result %= num1\n",
    "print(\"The result of modulus assignment is: \", result_5)\n",
    "\n",
    "# Exponential AND assignment operator (**=). Exponential value of left with right operand and assigns value to left\n",
    "# operand\n",
    "# Y **= X is equivalent to Y = Y**X\n",
    "result_6 = num2\n",
    "result_6 **= num1\n",
    "print(\"The result of exponetial assignment is: \", result_6)"
   ]
  },
  {
   "cell_type": "markdown",
   "metadata": {},
   "source": [
    "##### Relational Operators"
   ]
  },
  {
   "cell_type": "code",
   "execution_count": 13,
   "metadata": {},
   "outputs": [
    {
     "name": "stdout",
     "output_type": "stream",
     "text": [
      "The result of equals to operator is:  False\n",
      "The result of not equals to operator is:  True\n",
      "The result of greater than operator is:  True\n",
      "The result of lesser than operator is:  False\n",
      "The result of greater than or equals operator is:  True\n",
      "The result of lesser than or equal operator is:  False\n"
     ]
    }
   ],
   "source": [
    "# Code to demonstrate relational operators\n",
    "num_3 = 60\n",
    "num_4 = 40\n",
    "\n",
    "# The equals (==) operator checks if the value of two operands are equal\n",
    "print(\"The result of equals to operator is: \", num_3 == num_4)\n",
    "\n",
    "# The Not equals (!=) operator checks if the value of two operands are not equal\n",
    "print(\"The result of not equals to operator is: \", num_3 != num_4)\n",
    "\n",
    "# The greater than (>) operator checks if the value of left operand is greater than right operand\n",
    "print(\"The result of greater than operator is: \", num_3 > num_4)\n",
    "\n",
    "# The lesser than (<) operator checks if the value of left operand is lesser than right operand\n",
    "print(\"The result of lesser than operator is: \", num_3 < num_4)\n",
    "\n",
    "# The greater than equals (>=) operator checks if the left operand is greater or equals to left operand\n",
    "print(\"The result of greater than or equals operator is: \", num_3 >= num_4)\n",
    "\n",
    "# The lesser than equals (<=) operator checks if the left operand is lesser or equals to left operand\n",
    "print(\"The result of lesser than or equal operator is: \", num_3 <= num_4)"
   ]
  },
  {
   "cell_type": "markdown",
   "metadata": {},
   "source": [
    "##### Logical Operators"
   ]
  },
  {
   "cell_type": "code",
   "execution_count": 14,
   "metadata": {},
   "outputs": [
    {
     "name": "stdout",
     "output_type": "stream",
     "text": [
      "The use of AND operator:  False\n",
      "The use of OR operator:  True\n",
      "The use of NOT operator:  False\n"
     ]
    }
   ],
   "source": [
    "# Code to demonstrate logical operators\n",
    "num_5 = 250\n",
    "num_6 = 350\n",
    "num_7 = 275\n",
    "\n",
    "# Use of \"AND\" logical operator\n",
    "print(\"The use of AND operator: \", num_5 > num_6 and num_6 > num_7)\n",
    "\n",
    "# Use of \"OR\" logical operator\n",
    "print(\"The use of OR operator: \", num_5 > num_6 or num_6 > num_7)\n",
    "\n",
    "# Use of \"NOT\" logical operator\n",
    "print(\"The use of NOT operator: \", not num_5 < num_6)"
   ]
  },
  {
   "cell_type": "markdown",
   "metadata": {},
   "source": [
    "##### Operator Precedence\n",
    "\n",
    "         Operator                         Precedence\n",
    "            ()                           Parenthesis\n",
    "            **                           Exponential\n",
    "            /,*,//,%                     Division, Multiplication, Integer Division, Modulus\n",
    "            +,-                          Addition and Subtraction\n",
    "            >,>=,<,<=,==,!=              Relational Operators\n",
    "            =,+=,-=,**=,/=,//-,%=        Assignment Operators\n",
    "            not,or,and                   Logical and Boolean Operators"
   ]
  }
 ],
 "metadata": {
  "kernelspec": {
   "display_name": "Python 3",
   "language": "python",
   "name": "python3"
  },
  "language_info": {
   "codemirror_mode": {
    "name": "ipython",
    "version": 3
   },
   "file_extension": ".py",
   "mimetype": "text/x-python",
   "name": "python",
   "nbconvert_exporter": "python",
   "pygments_lexer": "ipython3",
   "version": "3.8.6"
  }
 },
 "nbformat": 4,
 "nbformat_minor": 4
}
