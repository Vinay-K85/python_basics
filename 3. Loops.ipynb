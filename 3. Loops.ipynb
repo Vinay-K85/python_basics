{
 "cells": [
  {
   "cell_type": "markdown",
   "metadata": {},
   "source": [
    "# Loops\n",
    "\n",
    "#### `for` Loop\n",
    "\n",
    "When the number of repetitions are known in advance `for` loop is used. In this we need to specify `start`, `end` and `step` argument. \n",
    "\n",
    "**Syntax**\n",
    "\n",
    "`for var in range(start, end, step):\n",
    "       commands to be executed`\n",
    "       \n",
    "where: \n",
    "- `var` is the variable name\n",
    "- `start` denotes the starting number\n",
    "- `end` denotes the ending number\n",
    "- `step` denotes the optional step for increment or decrement (default +1 or -1)"
   ]
  },
  {
   "cell_type": "code",
   "execution_count": 1,
   "metadata": {},
   "outputs": [
    {
     "name": "stdout",
     "output_type": "stream",
     "text": [
      "Enter the number to print the table: 8\n",
      "8 x 1 = 8\n",
      "8 x 2 = 16\n",
      "8 x 3 = 24\n",
      "8 x 4 = 32\n",
      "8 x 5 = 40\n",
      "8 x 6 = 48\n",
      "8 x 7 = 56\n",
      "8 x 8 = 64\n",
      "8 x 9 = 72\n",
      "8 x 10 = 80\n",
      "Task finished\n"
     ]
    }
   ],
   "source": [
    "# Code to demonstrate the for loop\n",
    "num = int(input(\"Enter the number to print the table: \"))\n",
    "\n",
    "for k in range(1,11):\n",
    "    print(num, \"x\", k, \"=\", num*k)\n",
    "    \n",
    "# Outside the for loop\n",
    "print(\"Task finished\")"
   ]
  },
  {
   "cell_type": "code",
   "execution_count": 2,
   "metadata": {},
   "outputs": [
    {
     "name": "stdout",
     "output_type": "stream",
     "text": [
      "Enter the number to print the table: 14\n",
      "14 x 1 = 14\n",
      "14 x 3 = 42\n",
      "14 x 5 = 70\n",
      "14 x 7 = 98\n",
      "14 x 9 = 126\n",
      "Task finished\n"
     ]
    }
   ],
   "source": [
    "# Code to demonstrate the for loop with step argument\n",
    "num_1 = int(input(\"Enter the number to print the table: \"))\n",
    "\n",
    "for k in range(1,11,2):\n",
    "    print(num_1, \"x\", k, \"=\", num_1*k)\n",
    "    \n",
    "# Outside the for loop\n",
    "print(\"Task finished\")"
   ]
  },
  {
   "cell_type": "code",
   "execution_count": 3,
   "metadata": {},
   "outputs": [
    {
     "name": "stdout",
     "output_type": "stream",
     "text": [
      "Enter the number: 9\n",
      "The answer is:  40320\n",
      "Task finished\n"
     ]
    }
   ],
   "source": [
    "# Code to calculate the factorial of a number\n",
    "number = int(input(\"Enter the number: \"))\n",
    "\n",
    "fact = 1\n",
    "for k in range(1, num+1):\n",
    "    fact = fact*k\n",
    "    \n",
    "# Outside the for loop\n",
    "print(\"The answer is: \", fact)\n",
    "print(\"Task finished\")"
   ]
  },
  {
   "cell_type": "code",
   "execution_count": 4,
   "metadata": {},
   "outputs": [
    {
     "name": "stdout",
     "output_type": "stream",
     "text": [
      "Enter the number: 3\n",
      "The answer is:  40320\n",
      "Task finished\n"
     ]
    }
   ],
   "source": [
    "# Code to calculate the factorial of a number\n",
    "number = int(input(\"Enter the number: \"))\n",
    "\n",
    "fact = 1\n",
    "for k in range(1, num+1):\n",
    "    fact *= k\n",
    "    \n",
    "# Outside the for loop\n",
    "print(\"The answer is: \", fact)\n",
    "print(\"Task finished\")"
   ]
  },
  {
   "cell_type": "markdown",
   "metadata": {},
   "source": [
    "Practically while solving real-world problem we need to include loops with conditonal statements."
   ]
  },
  {
   "cell_type": "code",
   "execution_count": 5,
   "metadata": {},
   "outputs": [
    {
     "name": "stdout",
     "output_type": "stream",
     "text": [
      "Enter the number: 2\n",
      "Enter the price: 230\n",
      "Enter the quantity: 5\n",
      "Enter the price: 133\n",
      "Enter the quantity: 2\n",
      "The total amount is:  1416\n",
      "Discount of 5% :  70.8\n",
      "Net amount paid is:  1345.2\n"
     ]
    }
   ],
   "source": [
    "# Code to demonstrate \"for\" and \"if\" together\n",
    "num_2 = int(input(\"Enter the number: \"))\n",
    "amount = 0\n",
    "discount = 0\n",
    "\n",
    "# For loop\n",
    "for k in range(1, num_2+1):\n",
    "    price = eval(input(\"Enter the price: \"))\n",
    "    quantity = eval(input(\"Enter the quantity: \"))\n",
    "    amount = amount + (price*quantity)\n",
    "    \n",
    "print(\"The total amount is: \", amount)\n",
    "\n",
    "# If statement\n",
    "if amount > 5000:\n",
    "    discount = amount*0.1\n",
    "    print(\"Discount of 10% : \", discount)\n",
    "elif amount > 3000:\n",
    "    discount = amount*0.07\n",
    "    print(\"Discount of 7% : \", discount)\n",
    "elif amount > 1000:\n",
    "    discount = amount*0.05\n",
    "    print(\"Discount of 5% : \", discount)\n",
    "else:\n",
    "    print(\"No discount received\")\n",
    "    \n",
    "# Main program\n",
    "print(\"Net amount paid is: \", (amount-discount))"
   ]
  },
  {
   "cell_type": "markdown",
   "metadata": {},
   "source": [
    "#### Nesting of `for` Loop"
   ]
  },
  {
   "cell_type": "code",
   "execution_count": 6,
   "metadata": {},
   "outputs": [
    {
     "name": "stdout",
     "output_type": "stream",
     "text": [
      "Enter the number: 56\n",
      "* \n",
      "\n",
      "* * \n",
      "\n",
      "* * * \n",
      "\n",
      "* * * * \n",
      "\n",
      "* * * * * \n",
      "\n",
      "* * * * * * \n",
      "\n",
      "* * * * * * * \n",
      "\n",
      "* * * * * * * * \n",
      "\n",
      "* * * * * * * * * \n",
      "\n",
      "* * * * * * * * * * \n",
      "\n",
      "* * * * * * * * * * * \n",
      "\n",
      "* * * * * * * * * * * * \n",
      "\n",
      "* * * * * * * * * * * * * \n",
      "\n",
      "* * * * * * * * * * * * * * \n",
      "\n",
      "* * * * * * * * * * * * * * * \n",
      "\n",
      "* * * * * * * * * * * * * * * * \n",
      "\n",
      "* * * * * * * * * * * * * * * * * \n",
      "\n",
      "* * * * * * * * * * * * * * * * * * \n",
      "\n",
      "* * * * * * * * * * * * * * * * * * * \n",
      "\n",
      "* * * * * * * * * * * * * * * * * * * * \n",
      "\n",
      "* * * * * * * * * * * * * * * * * * * * * \n",
      "\n",
      "* * * * * * * * * * * * * * * * * * * * * * \n",
      "\n",
      "* * * * * * * * * * * * * * * * * * * * * * * \n",
      "\n",
      "* * * * * * * * * * * * * * * * * * * * * * * * \n",
      "\n",
      "* * * * * * * * * * * * * * * * * * * * * * * * * \n",
      "\n",
      "* * * * * * * * * * * * * * * * * * * * * * * * * * \n",
      "\n",
      "* * * * * * * * * * * * * * * * * * * * * * * * * * * \n",
      "\n",
      "* * * * * * * * * * * * * * * * * * * * * * * * * * * * \n",
      "\n",
      "* * * * * * * * * * * * * * * * * * * * * * * * * * * * * \n",
      "\n",
      "* * * * * * * * * * * * * * * * * * * * * * * * * * * * * * \n",
      "\n",
      "* * * * * * * * * * * * * * * * * * * * * * * * * * * * * * * \n",
      "\n",
      "* * * * * * * * * * * * * * * * * * * * * * * * * * * * * * * * \n",
      "\n",
      "* * * * * * * * * * * * * * * * * * * * * * * * * * * * * * * * * \n",
      "\n",
      "* * * * * * * * * * * * * * * * * * * * * * * * * * * * * * * * * * \n",
      "\n",
      "* * * * * * * * * * * * * * * * * * * * * * * * * * * * * * * * * * * \n",
      "\n",
      "* * * * * * * * * * * * * * * * * * * * * * * * * * * * * * * * * * * * \n",
      "\n",
      "* * * * * * * * * * * * * * * * * * * * * * * * * * * * * * * * * * * * * \n",
      "\n",
      "* * * * * * * * * * * * * * * * * * * * * * * * * * * * * * * * * * * * * * \n",
      "\n",
      "* * * * * * * * * * * * * * * * * * * * * * * * * * * * * * * * * * * * * * * \n",
      "\n",
      "* * * * * * * * * * * * * * * * * * * * * * * * * * * * * * * * * * * * * * * * \n",
      "\n",
      "* * * * * * * * * * * * * * * * * * * * * * * * * * * * * * * * * * * * * * * * * \n",
      "\n",
      "* * * * * * * * * * * * * * * * * * * * * * * * * * * * * * * * * * * * * * * * * * \n",
      "\n",
      "* * * * * * * * * * * * * * * * * * * * * * * * * * * * * * * * * * * * * * * * * * * \n",
      "\n",
      "* * * * * * * * * * * * * * * * * * * * * * * * * * * * * * * * * * * * * * * * * * * * \n",
      "\n",
      "* * * * * * * * * * * * * * * * * * * * * * * * * * * * * * * * * * * * * * * * * * * * * \n",
      "\n",
      "* * * * * * * * * * * * * * * * * * * * * * * * * * * * * * * * * * * * * * * * * * * * * * \n",
      "\n",
      "* * * * * * * * * * * * * * * * * * * * * * * * * * * * * * * * * * * * * * * * * * * * * * * \n",
      "\n",
      "* * * * * * * * * * * * * * * * * * * * * * * * * * * * * * * * * * * * * * * * * * * * * * * * \n",
      "\n",
      "* * * * * * * * * * * * * * * * * * * * * * * * * * * * * * * * * * * * * * * * * * * * * * * * * \n",
      "\n",
      "* * * * * * * * * * * * * * * * * * * * * * * * * * * * * * * * * * * * * * * * * * * * * * * * * * \n",
      "\n",
      "* * * * * * * * * * * * * * * * * * * * * * * * * * * * * * * * * * * * * * * * * * * * * * * * * * * \n",
      "\n",
      "* * * * * * * * * * * * * * * * * * * * * * * * * * * * * * * * * * * * * * * * * * * * * * * * * * * * \n",
      "\n",
      "* * * * * * * * * * * * * * * * * * * * * * * * * * * * * * * * * * * * * * * * * * * * * * * * * * * * * \n",
      "\n",
      "* * * * * * * * * * * * * * * * * * * * * * * * * * * * * * * * * * * * * * * * * * * * * * * * * * * * * * \n",
      "\n",
      "* * * * * * * * * * * * * * * * * * * * * * * * * * * * * * * * * * * * * * * * * * * * * * * * * * * * * * * \n",
      "\n",
      "* * * * * * * * * * * * * * * * * * * * * * * * * * * * * * * * * * * * * * * * * * * * * * * * * * * * * * * * \n",
      "\n"
     ]
    }
   ],
   "source": [
    "# Code to demonstrate the nested loop\n",
    "num_3 = int(input(\"Enter the number: \"))\n",
    "\n",
    "for k in range(1, num_3+1):\n",
    "    for j in range(1, k+1):\n",
    "        print(\"*\", end = \" \")\n",
    "    print(\"\\n\")"
   ]
  },
  {
   "cell_type": "markdown",
   "metadata": {},
   "source": [
    "#### `while` Loop\n",
    "\n",
    "`while` loop code executes again and again until a stop condition is met. A condition is tested in the beginning of the loop, if it is true then loop will execute. This validation of condition will continue until it turns out to be false."
   ]
  },
  {
   "cell_type": "code",
   "execution_count": 7,
   "metadata": {},
   "outputs": [
    {
     "name": "stdout",
     "output_type": "stream",
     "text": [
      "101\n",
      "102\n",
      "103\n",
      "104\n",
      "105\n",
      "Task Finished\n"
     ]
    }
   ],
   "source": [
    "# Code to demonstrate the while loop\n",
    "counter = 101\n",
    "\n",
    "# while loop\n",
    "while counter <= 105:\n",
    "    print(counter)\n",
    "    counter += 1\n",
    "    \n",
    "# Outside the loop\n",
    "print(\"Task Finished\")"
   ]
  },
  {
   "cell_type": "markdown",
   "metadata": {},
   "source": [
    "It it to be noted that the value of counter within the `while` loop should be incremented, otherwise an infinite loop will take place."
   ]
  },
  {
   "cell_type": "markdown",
   "metadata": {},
   "source": [
    "#### Nesting of `while` Loop"
   ]
  },
  {
   "cell_type": "code",
   "execution_count": 8,
   "metadata": {},
   "outputs": [
    {
     "name": "stdout",
     "output_type": "stream",
     "text": [
      "Enter the number: 4\n",
      "1 \n",
      "\n",
      "1 2 \n",
      "\n",
      "1 2 3 \n",
      "\n",
      "1 2 3 4 \n",
      "\n"
     ]
    }
   ],
   "source": [
    "# Code to demonstrate nesting of while loop\n",
    "k = 1\n",
    "x = int(input(\"Enter the number: \"))\n",
    "\n",
    "# Using nested while loop\n",
    "while k <= x:\n",
    "    j = 1\n",
    "    while j <= k:\n",
    "        print(j, end = \" \")\n",
    "        j = j + 1\n",
    "    print(\"\\n\")\n",
    "    k = k + 1"
   ]
  },
  {
   "cell_type": "markdown",
   "metadata": {},
   "source": [
    "#### Nesting of Conditional Statements and Loops"
   ]
  },
  {
   "cell_type": "markdown",
   "metadata": {},
   "source": [
    "##### The `for` loop inside `if` statement"
   ]
  },
  {
   "cell_type": "code",
   "execution_count": 9,
   "metadata": {},
   "outputs": [
    {
     "name": "stdout",
     "output_type": "stream",
     "text": [
      "Enter the choice 1 for odd, 2 for even: 1\n",
      "Odd numbers in the range are: \n",
      "10\n",
      "12\n",
      "14\n",
      "16\n",
      "18\n",
      "20\n"
     ]
    }
   ],
   "source": [
    "# Code to demonstrate for loop inside if statement\n",
    "choice = int(input(\"Enter the choice 1 for odd, 2 for even: \"))\n",
    "\n",
    "# for inside if structure\n",
    "if choice == 1:\n",
    "    print(\"Odd numbers in the range are: \")\n",
    "    for k in range(10,21,2):\n",
    "        print(k)\n",
    "elif choice == 2:\n",
    "    print(\"Even numbers in the range are: \")\n",
    "    for k in range(2,11,2):\n",
    "        print(k)\n",
    "else:\n",
    "    print(\"Invalid choice\")"
   ]
  },
  {
   "cell_type": "code",
   "execution_count": 10,
   "metadata": {},
   "outputs": [
    {
     "name": "stdout",
     "output_type": "stream",
     "text": [
      "Enter the choice 1 for odd, 2 for even: 2\n",
      "Even numbers in the range are: \n",
      "2\n",
      "4\n",
      "6\n",
      "8\n",
      "10\n"
     ]
    }
   ],
   "source": [
    "# Code to demonstrate for loop inside if statement\n",
    "choice = int(input(\"Enter the choice 1 for odd, 2 for even: \"))\n",
    "\n",
    "# for inside if structure\n",
    "if choice == 1:\n",
    "    print(\"Odd numbers in the range are: \")\n",
    "    for k in range(10,21,2):\n",
    "        print(k)\n",
    "elif choice == 2:\n",
    "    print(\"Even numbers in the range are: \")\n",
    "    for k in range(2,11,2):\n",
    "        print(k)\n",
    "else:\n",
    "    print(\"Invalid choice\")"
   ]
  },
  {
   "cell_type": "code",
   "execution_count": 11,
   "metadata": {},
   "outputs": [
    {
     "name": "stdout",
     "output_type": "stream",
     "text": [
      "Enter the choice 1 for odd, 2 for even: 1\n",
      "Odd numbers in the range are: \n",
      "10\n",
      "12\n",
      "14\n",
      "16\n",
      "18\n",
      "20\n"
     ]
    }
   ],
   "source": [
    "# Code to demonstrate for loop inside if statement\n",
    "choice = int(input(\"Enter the choice 1 for odd, 2 for even: \"))\n",
    "\n",
    "# for inside if structure\n",
    "if choice == 1:\n",
    "    print(\"Odd numbers in the range are: \")\n",
    "    for k in range(10,21,2):\n",
    "        print(k)\n",
    "elif choice == 2:\n",
    "    print(\"Even numbers in the range are: \")\n",
    "    for k in range(2,11,2):\n",
    "        print(k)\n",
    "else:\n",
    "    print(\"Invalid choice\")"
   ]
  },
  {
   "cell_type": "markdown",
   "metadata": {},
   "source": [
    "##### The `if` conditional statement inside  `for` loop"
   ]
  },
  {
   "cell_type": "code",
   "execution_count": 12,
   "metadata": {},
   "outputs": [
    {
     "name": "stdout",
     "output_type": "stream",
     "text": [
      "Enter the string: Hello World\n",
      "The length of the string is:  10\n"
     ]
    }
   ],
   "source": [
    "# Code to demonstrate if statement inside for loop\n",
    "string = input(\"Enter the string: \")\n",
    "count = 0\n",
    "\n",
    "# if inside for loop\n",
    "for letter in string:\n",
    "    if letter != \" \":\n",
    "        count = count + 1\n",
    "        \n",
    "# Outside the loop\n",
    "print(\"The length of the string is: \", count)"
   ]
  },
  {
   "cell_type": "code",
   "execution_count": 13,
   "metadata": {},
   "outputs": [
    {
     "name": "stdout",
     "output_type": "stream",
     "text": [
      "MNO\n",
      "MON\n",
      "NMO\n",
      "NOM\n",
      "OMN\n",
      "ONM\n"
     ]
    }
   ],
   "source": [
    "# Code to print all different arrangements of the letters M, N and O\n",
    "for first in \"MNO\":\n",
    "    for second in \"MNO\":\n",
    "        if second != first:\n",
    "            for third in \"MNO\":\n",
    "                if third != first and third != second:\n",
    "                    print(first + second + third)"
   ]
  },
  {
   "cell_type": "markdown",
   "metadata": {},
   "source": [
    "##### The `if` conditional statement inside `while` loop"
   ]
  },
  {
   "cell_type": "code",
   "execution_count": 14,
   "metadata": {},
   "outputs": [
    {
     "name": "stdout",
     "output_type": "stream",
     "text": [
      "Choice: A(add) or S(sub): A\n",
      "Enter the number: 34\n",
      "Wish to continue(yes/no): yes\n",
      "Choice: A(add) or S(sub): 67\n",
      "Enter the number: 45\n",
      "Wish to continue(yes/no): yes\n",
      "Choice: A(add) or S(sub): S\n",
      "Enter the number: 23\n",
      "Wish to continue(yes/no): no\n",
      "The total is:  11\n"
     ]
    }
   ],
   "source": [
    "# Code to demonstrate if statement inside while loop\n",
    "total = 0\n",
    "choice = \"yes\"\n",
    "\n",
    "# if statement inside the while loop\n",
    "while choice == \"yes\":\n",
    "    operation = input(\"Choice: A(add) or S(sub): \")\n",
    "    amount = int(input(\"Enter the number: \"))\n",
    "    if operation == \"A\":\n",
    "        total += amount\n",
    "    elif operation == \"S\":\n",
    "        total -= amount\n",
    "    else:\n",
    "        pass\n",
    "    choice = input(\"Wish to continue(yes/no): \")\n",
    "    \n",
    "# Outside the loop\n",
    "print(\"The total is: \", total)"
   ]
  },
  {
   "cell_type": "markdown",
   "metadata": {},
   "source": [
    "##### `for`, `while` and `if` together"
   ]
  },
  {
   "cell_type": "code",
   "execution_count": 15,
   "metadata": {},
   "outputs": [
    {
     "name": "stdout",
     "output_type": "stream",
     "text": [
      "Enter your choice 1 or 2: 1\n",
      "Enter the starting number of range: 3\n",
      "Enter the ending number of range: 9\n",
      "3 4 5 6 7 8 "
     ]
    }
   ],
   "source": [
    "# Code to demonstrate for, while and if together\n",
    "choice = eval(input(\"Enter your choice 1 or 2: \"))\n",
    "\n",
    "if choice == 1:\n",
    "    start = eval(input(\"Enter the starting number of range: \"))\n",
    "    end = eval(input(\"Enter the ending number of range: \"))\n",
    "    for x in range(start, end):\n",
    "        print(x, end = \" \")\n",
    "elif choice == 2:\n",
    "    ans = \"y\"\n",
    "    value = 111\n",
    "    while (ans == \"y\"):\n",
    "        print(value)\n",
    "        value += 1\n",
    "        ans = input(\"Press y to continue: \")\n",
    "else:\n",
    "    print(\"Invalid choice\")"
   ]
  },
  {
   "cell_type": "code",
   "execution_count": 16,
   "metadata": {},
   "outputs": [
    {
     "name": "stdout",
     "output_type": "stream",
     "text": [
      "Enter your choice 1 or 2: 2\n",
      "111\n",
      "Press y to continue: y\n",
      "112\n",
      "Press y to continue: y\n",
      "113\n",
      "Press y to continue: n\n"
     ]
    }
   ],
   "source": [
    "# Code to demonstrate for, while and if together\n",
    "choice = eval(input(\"Enter your choice 1 or 2: \"))\n",
    "\n",
    "if choice == 1:\n",
    "    start = eval(input(\"Enter the starting number of range: \"))\n",
    "    end = eval(input(\"Enter the ending number of range: \"))\n",
    "    for x in range(start, end):\n",
    "        print(x, end = \" \")\n",
    "elif choice == 2:\n",
    "    ans = \"y\"\n",
    "    value = 111\n",
    "    while (ans == \"y\"):\n",
    "        print(value)\n",
    "        value += 1\n",
    "        ans = input(\"Press y to continue: \")\n",
    "else:\n",
    "    print(\"Invalid choice\")"
   ]
  },
  {
   "cell_type": "markdown",
   "metadata": {},
   "source": [
    "#### Abnormal Loop Termination\n",
    "\n",
    "##### `break` Statement\n",
    "\n",
    "`break` terminates the loop statement and transfers execution to the statement immediately following the loop."
   ]
  },
  {
   "cell_type": "code",
   "execution_count": 17,
   "metadata": {},
   "outputs": [
    {
     "name": "stdout",
     "output_type": "stream",
     "text": [
      "11\n",
      "12\n",
      "13\n",
      "14\n",
      "15\n",
      "16\n"
     ]
    }
   ],
   "source": [
    "# Code to demonstrate break statement\n",
    "for number_1 in range(11,20):\n",
    "    print(number_1)\n",
    "    if (number_1 > 15):\n",
    "        break"
   ]
  },
  {
   "cell_type": "code",
   "execution_count": 18,
   "metadata": {},
   "outputs": [
    {
     "name": "stdout",
     "output_type": "stream",
     "text": [
      "Enter positive integer numbers to add; negative number to end:\n",
      "Enter the amount: 350\n",
      "Enter the amount: 23\n",
      "Enter the amount: -35\n"
     ]
    }
   ],
   "source": [
    "# break and while\n",
    "total = 0\n",
    "print(\"Enter positive integer numbers to add; negative number to end:\")\n",
    "while True:\n",
    "    amount = eval(input(\"Enter the amount: \"))\n",
    "    if amount < 0:\n",
    "        break\n",
    "    total += amount"
   ]
  },
  {
   "cell_type": "markdown",
   "metadata": {},
   "source": [
    "##### `continue` Statement\n",
    "\n",
    "When `continue` statement is found in the loop, the remaining statements within the body of the loop are skipped, but the loop is executed again and the condition in loop is checked again to see if the loop should continue to be exited."
   ]
  },
  {
   "cell_type": "code",
   "execution_count": 19,
   "metadata": {},
   "outputs": [
    {
     "name": "stdout",
     "output_type": "stream",
     "text": [
      "Enter the number (press 0 to quit): 34\n",
      "Enter the number (press 0 to quit): 0\n"
     ]
    }
   ],
   "source": [
    "# Code to demonstrate the continue statement\n",
    "total = 0\n",
    "complete = False\n",
    "while not complete:\n",
    "    amount = eval(input(\"Enter the number (press 0 to quit): \"))\n",
    "    if amount < 0:\n",
    "        print(\"Wrong, you entered a negative value: \", amount)\n",
    "        continue\n",
    "    # Skip rest of the body of this iteration\n",
    "    if amount == 0:\n",
    "        complete = True\n",
    "    else:\n",
    "        total += amount"
   ]
  },
  {
   "cell_type": "markdown",
   "metadata": {},
   "source": [
    "##### `pass` Statement\n",
    "\n",
    "`pass` is a null statement. This is used when the user has created a code block that is not required."
   ]
  },
  {
   "cell_type": "code",
   "execution_count": 20,
   "metadata": {},
   "outputs": [
    {
     "name": "stdout",
     "output_type": "stream",
     "text": [
      "The last letter is:  o\n"
     ]
    }
   ],
   "source": [
    "# Code to demonstrate pass statement\n",
    "for letter in \"Hello\":\n",
    "    pass\n",
    "print(\"The last letter is: \", letter)"
   ]
  }
 ],
 "metadata": {
  "kernelspec": {
   "display_name": "Python 3",
   "language": "python",
   "name": "python3"
  },
  "language_info": {
   "codemirror_mode": {
    "name": "ipython",
    "version": 3
   },
   "file_extension": ".py",
   "mimetype": "text/x-python",
   "name": "python",
   "nbconvert_exporter": "python",
   "pygments_lexer": "ipython3",
   "version": "3.8.6"
  }
 },
 "nbformat": 4,
 "nbformat_minor": 4
}
